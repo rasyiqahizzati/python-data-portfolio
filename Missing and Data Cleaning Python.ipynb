{
 "cells": [
  {
   "cell_type": "code",
   "execution_count": null,
   "metadata": {},
   "outputs": [],
   "source": [
    "# handling missing values\n",
    "# data analysis with python\n",
    "import pandas as pd\n",
    "from sklearn.impute import SimpleImputer\n",
    "\n",
    "df = pd.read_csv('animal_dataset.csv') #upload the csv file and then read\n",
    "df"
   ]
  },
  {
   "cell_type": "code",
   "execution_count": null,
   "metadata": {},
   "outputs": [],
   "source": [
    "# checking for missing values\n",
    "# give the sum of values based on each column\n",
    "print(df.isnull().sum())"
   ]
  },
  {
   "cell_type": "code",
   "execution_count": null,
   "metadata": {},
   "outputs": [],
   "source": [
    "# dropping 'rows' with missing values\n",
    "df.dropna(axis=0)"
   ]
  },
  {
   "cell_type": "code",
   "execution_count": null,
   "metadata": {},
   "outputs": [],
   "source": [
    "# dropping 'columns' with missing values\n",
    "df.dropna(axis=1)"
   ]
  },
  {
   "cell_type": "code",
   "execution_count": null,
   "metadata": {},
   "outputs": [],
   "source": [
    "# identify columns that have exactly one missing value\n",
    "drop_columns = df.columns[df.isnull().sum()==1]\n",
    "df_cleaned = df.drop(columns = drop_columns)\n",
    "df_cleaned.head()"
   ]
  },
  {
   "cell_type": "markdown",
   "metadata": {},
   "source": [
    "Imputation : Filling Missing Data Pandas\n",
    "- Instead of dropping missing values, fill it"
   ]
  },
  {
   "cell_type": "code",
   "execution_count": null,
   "metadata": {},
   "outputs": [],
   "source": [
    "def fill_missing_values_pandas(df):\n",
    "\n",
    "    df1 = df.copy() \n",
    "\n",
    "    # fill missing values with mean for numerical 'Age' column\n",
    "    df1['Age'] = df1['Age'].fillna(df1['Age'].mean())\n",
    "\n",
    "    # fill missing values with median for numerical 'Weight_kg' column\n",
    "    df1['Weight_kg'] = df1['Weight_kg'].fillna(df1['Weight_kg'].median())\n",
    "\n",
    "    # fill missing values with mode for numerical 'Habitat' column\n",
    "    df1['Habitat'] = df1['Habitat'].fillna(df1['Habitat'].mode()[0])\n",
    "\n",
    "    # fill missing values with True for numerical 'Endangered' column\n",
    "    df1['Endangered'] = df1['Endangered'].fillna(value='True')\n",
    "    return df1\n",
    "\n",
    "fill_missing_values_pandas(df)\n",
    "\n"
   ]
  },
  {
   "cell_type": "code",
   "execution_count": null,
   "metadata": {},
   "outputs": [],
   "source": [
    "def fill_missinf_values_with_sklearn(df):\n",
    "    df2 = df.copy()\n",
    "\n",
    "    # create imputers for different strategies\n",
    "    mean_imputer = SimpleImputer(strategy='mean')\n",
    "    median_imputer = SimpleImputer(strategy='median')\n",
    "    mode_imputer = SimpleImputer(strategy='most_frequent')\n",
    "    constant_imputer = SimpleImputer(strategy='constant', fill_value=True)\n",
    "\n",
    "    # fill missing values using the appropriate imputer\n",
    "    df2[['Age']] = mean_imputer.fit_transform(df[['Age']])\n",
    "    df2[['Weight_kg']] = median_imputer.fit_transform(df[['Weight_kg']])\n",
    "    df2[['Habitat']] = mode_imputer.fit_transform(df[['Habitat']])\n",
    "    df2[['Endangered']] = constant_imputer.fit_transform(df[['Endangered']])\n",
    "    return df2\n",
    "fill_missing_values_with_sklearn(df)"
   ]
  },
  {
   "cell_type": "markdown",
   "metadata": {},
   "source": [
    "Why Use .copy()?\n",
    "\n",
    "- Avoid Unintended Changes: If you want to experiment with or modify the data without altering the original DataFrame, using .copy() ensures that the original data remains unchanged.\n",
    "\n",
    "- Data Integrity: It helps maintain the integrity of your original data, especially when performing operations that might be destructive or irreversible."
   ]
  }
 ],
 "metadata": {
  "kernelspec": {
   "display_name": "Python 3",
   "language": "python",
   "name": "python3"
  },
  "language_info": {
   "name": "python",
   "version": "3.11.9"
  }
 },
 "nbformat": 4,
 "nbformat_minor": 2
}
